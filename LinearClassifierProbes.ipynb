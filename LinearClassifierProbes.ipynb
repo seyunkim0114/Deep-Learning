{
  "nbformat": 4,
  "nbformat_minor": 0,
  "metadata": {
    "colab": {
      "name": "LinearClassifierProbes",
      "provenance": [],
      "collapsed_sections": [],
      "authorship_tag": "ABX9TyNV7fMgHghnAzjERdFtzKzV",
      "include_colab_link": true
    },
    "kernelspec": {
      "name": "python3",
      "display_name": "Python 3"
    },
    "accelerator": "GPU"
  },
  "cells": [
    {
      "cell_type": "markdown",
      "metadata": {
        "id": "view-in-github",
        "colab_type": "text"
      },
      "source": [
        "<a href=\"https://colab.research.google.com/github/seyunkim0114/Deep-Learning/blob/main/LinearClassifierProbes.ipynb\" target=\"_parent\"><img src=\"https://colab.research.google.com/assets/colab-badge.svg\" alt=\"Open In Colab\"/></a>"
      ]
    },
    {
      "cell_type": "code",
      "metadata": {
        "id": "HwSuvD94YLEX"
      },
      "source": [
        "# Seyun Kim\n",
        "# 2020 ECE469 Deep Learning Midterm\n",
        "# Reproducing figure 2 presented in \"Understanding intermediate layers using linear classifier probes\""
      ],
      "execution_count": null,
      "outputs": []
    },
    {
      "cell_type": "code",
      "metadata": {
        "id": "mT3v3Xf1b1Td"
      },
      "source": [
        "import keras\n",
        "from keras.datasets import mnist\n",
        "import matplotlib.pyplot as plt"
      ],
      "execution_count": null,
      "outputs": []
    },
    {
      "cell_type": "code",
      "metadata": {
        "id": "HTHRyQkTeNHN"
      },
      "source": [
        "import keras\n",
        "import numpy as np\n",
        "import tensorflow as tf\n",
        "from keras.models import Model\n",
        "from keras import optimizers, regularizers\n",
        "from keras.layers import Dense, Dropout, Activation, Flatten, Conv2D, MaxPooling2D, Input, BatchNormalization\n",
        "from sklearn.model_selection import train_test_split\n",
        "from keras.preprocessing.image import ImageDataGenerator\n",
        "from keras.callbacks import LearningRateScheduler\n"
      ],
      "execution_count": null,
      "outputs": []
    },
    {
      "cell_type": "code",
      "metadata": {
        "id": "X4WhhxzAev9l"
      },
      "source": [
        "# parameters\n",
        "row = 28\n",
        "col = 28\n",
        "layerNum = 0"
      ],
      "execution_count": null,
      "outputs": []
    },
    {
      "cell_type": "code",
      "metadata": {
        "id": "77WC1VKie7rk"
      },
      "source": [
        "# hyperparameters\n",
        "lr = 0.01\n",
        "batch_size = 128\n",
        "weight_decay = 0.1"
      ],
      "execution_count": null,
      "outputs": []
    },
    {
      "cell_type": "code",
      "metadata": {
        "id": "0-dB8mzKb6ds",
        "outputId": "ca84249f-9993-4b9e-fd7d-e0f82ca20b3a",
        "colab": {
          "base_uri": "https://localhost:8080/"
        }
      },
      "source": [
        "# Load data\n",
        "(x_data, y_data), (x_test, y_test) = mnist.load_data()"
      ],
      "execution_count": null,
      "outputs": [
        {
          "output_type": "stream",
          "text": [
            "Downloading data from https://storage.googleapis.com/tensorflow/tf-keras-datasets/mnist.npz\n",
            "11493376/11490434 [==============================] - 0s 0us/step\n"
          ],
          "name": "stdout"
        }
      ]
    },
    {
      "cell_type": "code",
      "metadata": {
        "id": "QZJgCVp8dMs1"
      },
      "source": [
        "# Pre-process data\n",
        "x_train, x_val, y_train, y_val = train_test_split(x_data, y_data, test_size =1/6)\n",
        "\n",
        "x_train = np.reshape(x_train, (50000, row, col, 1))\n",
        "x_val = np.reshape(x_val, (10000, row, col, 1))\n",
        "x_test = np.reshape(x_test, (10000, row, col, 1))\n",
        "input_shape = (row, col ,1)\n",
        "\n",
        "x_train = x_train.astype('float32')\n",
        "x_val = x_val.astype('float32')\n",
        "x_test = x_test.astype('float32')\n",
        "\n",
        "# Normalization\n",
        "x_train = x_train/255\n",
        "x_val = x_val/255\n",
        "x_test = x_test/255"
      ],
      "execution_count": null,
      "outputs": []
    },
    {
      "cell_type": "code",
      "metadata": {
        "id": "lhD9h2Cb-i0J"
      },
      "source": [
        "# Make label one hot encoded\n",
        "digits = 10\n",
        "y_train = keras.utils.to_categorical(y_train, num_classes = digits)\n",
        "y_data = keras.utils.to_categorical(y_data, num_classes = digits)\n",
        "\n",
        "y_val = keras.utils.to_categorical(y_val, num_classes = digits)\n",
        "y_test = keras.utils.to_categorical(y_test, num_classes = digits)"
      ],
      "execution_count": null,
      "outputs": []
    },
    {
      "cell_type": "code",
      "metadata": {
        "id": "4iSm3Y8CVJIu"
      },
      "source": [
        "# Function to add linear classifier probes\n",
        "# stop_gradient prevents probe layer from backpropating to the model\n",
        "def addProbe(feature, models, name):\n",
        "  x = Flatten()(tf.stop_gradient(feature))\n",
        "  x = Dense(10, activation = 'softmax')(x)\n",
        "  #models.append(Model(input, x))\n",
        "  models[name] = Model(input, x)"
      ],
      "execution_count": null,
      "outputs": []
    },
    {
      "cell_type": "code",
      "metadata": {
        "id": "_aKsh5W9-sB9"
      },
      "source": [
        "datagen = ImageDataGenerator(\n",
        "    #rotation_range = 15,\n",
        "    width_shift_range=3,\n",
        "    height_shift_range=3,\n",
        "    #horizontal_flip=True,\n",
        "    fill_mode = 'nearest',\n",
        "    zoom_range = 0.2,\n",
        "    shear_range = 0.2\n",
        "    )\n",
        "datagen.fit(x_train)"
      ],
      "execution_count": null,
      "outputs": []
    },
    {
      "cell_type": "code",
      "metadata": {
        "id": "gH-Wl0McJ3tH"
      },
      "source": [
        "def lr_scheduler(epoch):\n",
        "    l = lr\n",
        "    if epoch > 15:\n",
        "        l = 0.001\n",
        "    if epoch > 60:\n",
        "        l = 0.0005\n",
        "    if epoch > 100:\n",
        "        l = 0.0001\n",
        "    return l"
      ],
      "execution_count": null,
      "outputs": []
    },
    {
      "cell_type": "code",
      "metadata": {
        "id": "VvWvSLcGMl0v"
      },
      "source": [
        "# Function to get loss of each probe\n",
        "# try using softmax crossentropy. use int_layer parameter to save model output layer\n",
        "def process_probe(modelname, list_pretrain, name):\n",
        "  modelname.compile(loss=\"categorical_crossentropy\", \n",
        "                    optimizer=keras.optimizers.RMSprop(learning_rate = lr, decay=1e-3), \n",
        "                    metrics=[\"accuracy\"])\n",
        "  \n",
        "  early_stop = keras.callbacks.EarlyStopping(monitor='val_loss', patience = 20)\n",
        "\n",
        "  modelname.fit(datagen.flow(x_train, y_train, batch_size = 128),\n",
        "                steps_per_epoch = x_train.shape[0] // 128,\n",
        "                epochs = 150,\n",
        "                verbose = 0,\n",
        "                validation_data = (x_val, y_val),\n",
        "                callbacks = [early_stop, LearningRateScheduler(lr_scheduler)]\n",
        "                )\n",
        "  score = modelname.evaluate(x_test, y_test, verbose = 0)\n",
        "  print(\"=====================================================================================\")\n",
        "  print(name + \": Train stopped at epoch \" + str(early_stop.stopped_epoch))\n",
        "  print(name + \": Loss \" + str(score[0]))\n",
        "  print(name + \": Accuracy \" + str(score[1]))\n",
        "  print(\"=====================================================================================\")\n",
        "  list_pretrain.append(score[0])\n",
        "  "
      ],
      "execution_count": null,
      "outputs": []
    },
    {
      "cell_type": "code",
      "metadata": {
        "id": "68otGiLXfLhK"
      },
      "source": [
        "# Neural Network Model\n",
        "probe_models = {}\n",
        "post_train = []\n",
        "probe_loss = []\n",
        "\n",
        "input = Input(shape = x_train.shape[1:])\n",
        "addProbe(input, probe_models, \"input\")\n",
        "\n",
        "conv1_preact = Conv2D(32, [3,3])(input)\n",
        "conv1_preact = Dropout(0.15)(conv1_preact)\n",
        "addProbe(conv1_preact, probe_models, \"conv1_preact\")\n",
        "\n",
        "conv1_postact = Activation('relu')(conv1_preact)\n",
        "addProbe(conv1_postact, probe_models, \"conv1_postact\")\n",
        "\n",
        "conv1_postpool = MaxPooling2D()(conv1_postact)\n",
        "addProbe(conv1_postpool, probe_models, \"conv1_postpool\")\n",
        "\n",
        "conv2_preact = Conv2D(32, [3,3])(conv1_postpool)\n",
        "conv2_preact = Dropout(0.25)(conv2_preact)\n",
        "addProbe(conv2_preact, probe_models, \"conv2_preact\")\n",
        "\n",
        "conv2_postact = Activation('relu')(conv2_preact)\n",
        "addProbe(conv2_postact, probe_models, \"conv2_postact\")\n",
        "\n",
        "conv2_postpool = MaxPooling2D()(conv2_postact)\n",
        "addProbe(conv2_postpool, probe_models, \"conv2_postpool\")\n",
        "\n",
        "flat = Flatten()(conv2_postpool)\n",
        "\n",
        "fc1_preact = Dense(256)(flat)\n",
        "fc1_preact = Dropout(0.4)(fc1_preact)\n",
        "addProbe(fc1_preact, probe_models, \"fc1_pretact\")\n",
        "\n",
        "fc1_postact = Activation('relu')(fc1_preact)\n",
        "#fc1_postact = Dropout(0.15)(fc1_postact)\n",
        "addProbe(fc1_postact, probe_models, \"fc1_postact\")\n",
        "\n",
        "logits = Dense(10)(fc1_postact)\n",
        "logits = Dropout(0.25)(logits)\n",
        "addProbe(logits, probe_models, \"logits\")\n",
        "\n",
        "y = Activation('softmax')(logits)\n",
        "\n",
        "model = Model(input, y)\n",
        "model.summary()\n"
      ],
      "execution_count": null,
      "outputs": []
    },
    {
      "cell_type": "code",
      "metadata": {
        "id": "eAgjhfBWQYdZ"
      },
      "source": [
        "# Compute loss before training\n",
        "loss_pretrain = []\n",
        "for k,v in probe_models.items():\n",
        "  process_probe(v, loss_pretrain, k)\n"
      ],
      "execution_count": null,
      "outputs": []
    },
    {
      "cell_type": "code",
      "metadata": {
        "id": "cCBj3uLdioDf"
      },
      "source": [
        "print(loss_pretrain)"
      ],
      "execution_count": null,
      "outputs": []
    },
    {
      "cell_type": "code",
      "metadata": {
        "id": "8q4MOCQ38aD7"
      },
      "source": [
        "model.compile(loss = \"categorical_crossentropy\",\n",
        "              optimizer=keras.optimizers.RMSprop(), \n",
        "              metrics=[\"accuracy\"]\n",
        "              )\n"
      ],
      "execution_count": null,
      "outputs": []
    },
    {
      "cell_type": "code",
      "metadata": {
        "id": "zBxdR6RB9Ekt"
      },
      "source": [
        "model.fit(datagen.flow(x_train, y_train, \n",
        "          batch_size = batch_size),\n",
        "          steps_per_epoch = x_train.shape[0] // batch_size,\n",
        "          epochs = 10,\n",
        "          verbose = 2,\n",
        "          validation_data = (x_val, y_val)\n",
        "          )"
      ],
      "execution_count": null,
      "outputs": []
    },
    {
      "cell_type": "code",
      "metadata": {
        "id": "LjM7-3zUXBa6",
        "outputId": "07c6a111-d5ef-4e6d-e99d-02629e437e71",
        "colab": {
          "base_uri": "https://localhost:8080/"
        }
      },
      "source": [
        "print(model.evaluate(x_test, y_test)[0])"
      ],
      "execution_count": null,
      "outputs": [
        {
          "output_type": "stream",
          "text": [
            "313/313 [==============================] - 1s 2ms/step - loss: 0.0231 - accuracy: 0.9934\n",
            "0.02305186726152897\n"
          ],
          "name": "stdout"
        }
      ]
    },
    {
      "cell_type": "code",
      "metadata": {
        "id": "betmp1_E9Hz7"
      },
      "source": [
        "loss_posttrain = []\n",
        "for k,v in probe_models.items():\n",
        "  process_probe(v, loss_posttrain, k)\n"
      ],
      "execution_count": null,
      "outputs": []
    },
    {
      "cell_type": "code",
      "metadata": {
        "id": "Wa7qWmddYcTK"
      },
      "source": [
        "print(loss_posttrain)"
      ],
      "execution_count": null,
      "outputs": []
    },
    {
      "cell_type": "code",
      "metadata": {
        "id": "lWmFpcMFdW5k",
        "outputId": "f9a0b051-9b8c-48d3-8a77-7fd986c3938e",
        "colab": {
          "base_uri": "https://localhost:8080/",
          "height": 463
        }
      },
      "source": [
        "# Plot\n",
        "tick = [0, 1, 2, 3, 4, 5, 6, 7, 8, 9]\n",
        "plt.figure(figsize=(22, 7))\n",
        "\n",
        "plt.subplot(1,2,1)\n",
        "plt.plot(loss_pretrain)\n",
        "plt.xticks(tick, labels = [\"input\", \"conv1_preact\", \"conv1_postact\", \"conv1_postpool\", \"conv2_preact\", \"conv2_postact\", \"conv2_postpool\", \"fc1_preact\", \"fc1_postact\", \"logits\"])\n",
        "plt.ylabel(\"test prediction error\")\n",
        "plt.ylim([0,0.6])\n",
        "plt.title(\"After initialization, no training\")\n",
        "\n",
        "plt.subplot(1,2,2)\n",
        "plt.plot(loss_posttrain)\n",
        "plt.xticks(tick, labels = [\"input\", \"conv1_preact\", \"conv1_postact\", \"conv1_postpool\", \"conv2_preact\", \"conv2_postact\", \"conv2_postpool\", \"fc1_preact\", \"fc1_postact\", \"logits\"])\n",
        "plt.ylabel(\"test prediction error\")\n",
        "plt.ylim([0,0.6])\n",
        "plt.title(\"After training for 10 epochs\")"
      ],
      "execution_count": null,
      "outputs": [
        {
          "output_type": "execute_result",
          "data": {
            "text/plain": [
              "Text(0.5, 1.0, 'After training for 10 epochs')"
            ]
          },
          "metadata": {
            "tags": []
          },
          "execution_count": 23
        },
        {
          "output_type": "display_data",
          "data": {
            "image/png": "[encoded data removed]",
            "text/plain": [
              "<Figure size 1584x504 with 2 Axes>"
            ]
          },
          "metadata": {
            "tags": [],
            "needs_background": "light"
          }
        }
      ]
    }
  ]
}